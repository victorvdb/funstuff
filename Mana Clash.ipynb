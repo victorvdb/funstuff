{
 "cells": [
  {
   "cell_type": "code",
   "execution_count": 65,
   "metadata": {},
   "outputs": [
    {
     "name": "stdout",
     "output_type": "stream",
     "text": [
      "74.296875\n",
      "1797 1813 1196 2497884 9999999\n"
     ]
    }
   ],
   "source": [
    "import random as rd\n",
    "import pandas as pd\n",
    "import time\n",
    "\n",
    "rd.seed(1)\n",
    "\n",
    "clashes = pd.DataFrame()\n",
    "\n",
    "\n",
    "def mana_clash(verbose=False):\n",
    "    # 0 = heads = no damage\n",
    "    # 1 = tails = damage\n",
    "    # 2 heads = stop process\n",
    "    player = rd.choice([0,1])\n",
    "    opponent = rd.choice([0,1])\n",
    "    stop = (1 - player - opponent) > 0\n",
    "    if verbose==True:\n",
    "        print('Player flipped %d' % (player))\n",
    "        print('Opponent flipped %d' % (opponent))\n",
    "        print('Stop is %d' % (stop))\n",
    "    return stop, player, opponent\n",
    "\n",
    "def game(player=20, opponent=20, game=mana_clash, verbose=False):\n",
    "    stop = False\n",
    "    while stop==False:\n",
    "        stop, p, o=game()\n",
    "        opponent = opponent - o\n",
    "        player = player - p\n",
    "        #stop = True if opponent==0 else stop\n",
    "        #stop = True if player==0 else stop\n",
    "    return player, opponent\n",
    "\n",
    "tic = time.process_time()\n",
    "save=False\n",
    "wins=0\n",
    "losses=0\n",
    "ties=0\n",
    "nothingness=0\n",
    "for i in range(0,10000000):\n",
    "    player, opponent = game(verbose=True)\n",
    "    player_win = 1 if opponent<=0 else 0\n",
    "    opponent_win = 1 if player<=0 else 0\n",
    "    tie = 1 if player_win+opponent_win==2 else 0\n",
    "    player_win = player_win - tie\n",
    "    opponent_win = opponent_win - tie\n",
    "    \n",
    "    twenties = 1 if player + opponent == 40 else 0\n",
    "    \n",
    "    wins = wins + player_win\n",
    "    losses = losses + opponent_win\n",
    "    ties = ties + tie\n",
    "    nothingness = nothingness + twenties\n",
    "    \n",
    "    if save==True:\n",
    "        clashes=clashes.append(pd.DataFrame([[player, opponent, player_win, opponent_win, tie]]))\n",
    "toc = time.process_time()\n",
    "\n",
    "print(toc - tic)\n",
    "\n",
    "print(wins, losses, ties, nothingness, i)"
   ]
  },
  {
   "cell_type": "code",
   "execution_count": 59,
   "metadata": {},
   "outputs": [
    {
     "name": "stdout",
     "output_type": "stream",
     "text": [
      "player          1801451\n",
      "opponent        1801316\n",
      "player_win           13\n",
      "opponent_win         15\n",
      "tie                  16\n",
      "dtype: int64\n"
     ]
    }
   ],
   "source": [
    "print(clashes.sum())\n",
    "clashes.columns = ['player', 'opponent', 'player_win', 'opponent_win', 'tie']\n",
    "clashes.to_csv('clashes.csv')"
   ]
  }
 ],
 "metadata": {
  "kernelspec": {
   "display_name": "Python 3",
   "language": "python",
   "name": "python3"
  },
  "language_info": {
   "codemirror_mode": {
    "name": "ipython",
    "version": 3
   },
   "file_extension": ".py",
   "mimetype": "text/x-python",
   "name": "python",
   "nbconvert_exporter": "python",
   "pygments_lexer": "ipython3",
   "version": "3.7.4"
  }
 },
 "nbformat": 4,
 "nbformat_minor": 2
}
